{
 "cells": [
  {
   "cell_type": "code",
   "execution_count": null,
   "metadata": {},
   "outputs": [],
   "source": [
    "import pandas as pd\n",
    "import glob\n",
    "\n",
    "# Ruta de los archivos CSV\n",
    "ruta_archivos = \"/ejercicio1/QQP/*.csv\"\n",
    "\n",
    "#schema a definir de los archivos\n",
    "headers = [\"PRODUCTO\", \"PRESENTACION\", \"MARCA\", \"CATEGORIA\", \"CATALOGO\", \"PRECIO\", \"FECHAREGISTRO\", \n",
    "           \"CADENACOMERCIAL\", \"GIRO\", \"NOMBRECOMERCIAL\", \"DIRECCION\", \"ESTADO\", \"MUNICIPIO\", \"LATITUD\", \"LONGITUD\"]\n",
    "\n",
    "# Obtén una lista de todos los archivos CSV en la ruta especificada\n",
    "archivos_csv = glob.glob(ruta_archivos)\n",
    "\n",
    "\n",
    "# Lee cada archivo CSV y agrega los encabezados\n",
    "dataframes = []\n",
    "for archivo in archivos_csv:\n",
    "    print(archivo)\n",
    "    df = pd.read_csv(archivo, header=None, names=headers)\n",
    "    dataframes.append(df)\n",
    "\n",
    "#Se concatenan todos los archivos leidos\n",
    "df_concatenado = pd.concat(dataframes, ignore_index=True)\n",
    "\n",
    "# Imprimir el dataframe concatenado para verificar\n",
    "#print(df_concatenado)\n",
    "\n",
    "#df_concatenado.to_csv('/Users/sandra.palmer/Documents/code/GitHub/PoC-gepp-clientes-potenciales/Notebooks de pruebas/kvak/OUTPUT/archivo_concatenado.csv', index=False)\n",
    "\n"
   ]
  },
  {
   "cell_type": "code",
   "execution_count": 46,
   "metadata": {},
   "outputs": [
    {
     "name": "stdout",
     "output_type": "stream",
     "text": [
      "<class 'pandas.core.frame.DataFrame'>\n",
      "RangeIndex: 6212832 entries, 0 to 6212831\n",
      "Data columns (total 15 columns):\n",
      " #   Column           Dtype  \n",
      "---  ------           -----  \n",
      " 0   PRODUCTO         object \n",
      " 1   PRESENTACION     object \n",
      " 2   MARCA            object \n",
      " 3   CATEGORIA        object \n",
      " 4   CATALOGO         object \n",
      " 5   PRECIO           float64\n",
      " 6   FECHAREGISTRO    object \n",
      " 7   CADENACOMERCIAL  object \n",
      " 8   GIRO             object \n",
      " 9   NOMBRECOMERCIAL  object \n",
      " 10  DIRECCION        object \n",
      " 11  ESTADO           object \n",
      " 12  MUNICIPIO        object \n",
      " 13  LATITUD          float64\n",
      " 14  LONGITUD         float64\n",
      "dtypes: float64(3), object(12)\n",
      "memory usage: 711.0+ MB\n"
     ]
    }
   ],
   "source": [
    "# Esquema del DF\n",
    "df_concatenado.info()\n"
   ]
  },
  {
   "cell_type": "code",
   "execution_count": 47,
   "metadata": {},
   "outputs": [
    {
     "name": "stdout",
     "output_type": "stream",
     "text": [
      "¿Cuántos registros hay? 6212832\n"
     ]
    }
   ],
   "source": [
    "num_registros_len = len(df_concatenado)\n",
    "print(f\"¿Cuántos registros hay? {num_registros_len}\")\n"
   ]
  },
  {
   "cell_type": "code",
   "execution_count": 48,
   "metadata": {},
   "outputs": [
    {
     "name": "stdout",
     "output_type": "stream",
     "text": [
      "¿Cuántas categorías? 42\n"
     ]
    },
    {
     "data": {
      "text/plain": [
       "array(['HORTALIZAS FRESCAS', 'FRUTAS FRESCAS',\n",
       "       'PRODUCTOS DE TEMPORADA (NAVIDEÑOS)', 'MEDICAMENTOS',\n",
       "       'ACEITES Y GRASAS VEG. COMESTIBLES',\n",
       "       'ARTS. PARA EL CUIDADO PERSONAL', 'REFRESCOS ENVASADOS',\n",
       "       'FRUTAS Y LEGUMBRES PROCESADAS', 'ARROZ Y CEREALES PREPARADOS',\n",
       "       'APARATOS ELECTRONICOS', 'APARATOS ELECTRICOS',\n",
       "       'PESCADOS Y MARISCOS EN CONSERVA', 'AZUCAR', 'PESCADOS Y MARISCOS',\n",
       "       'DETERGENTES Y PRODUCTOS SIMILARES', 'CAFE',\n",
       "       'CHOCOLATES Y GOLOSINAS', 'CARNE Y VISCERAS DE CERDO',\n",
       "       'CARNES FRIAS SECAS Y EMBUTIDOS', 'CARNE DE AVE',\n",
       "       'CARNE Y VISCERAS DE RES', 'CERVEZA', 'LEGUMBRES SECAS',\n",
       "       'CONDIMENTOS', 'DERIVADOS DE LECHE',\n",
       "       'ARTS. DE ESPARCIMIENTO (JUGUETES)', 'LECHE PROCESADA',\n",
       "       'GALLETAS PASTAS Y HARINAS DE TRIGO',\n",
       "       'TORTILLAS Y DERIVADOS DEL MAIZ', 'HUEVO', 'LECHE FRESCA',\n",
       "       'UTENSILIOS DOMESTICOS', 'PAN',\n",
       "       'ARTS. DE PAPEL P/HIGIENE PERSONAL', 'ALIMENTOS COCINADOS F/CASA',\n",
       "       'VINOS Y LICORES', 'TE', 'ACCESORIOS DOMESTICOS',\n",
       "       'GRASAS ANIMALES COMESTIBLES', 'CIGARRILLOS', 'MATERIAL ESCOLAR',\n",
       "       'GALLETAS'], dtype=object)"
      ]
     },
     "execution_count": 48,
     "metadata": {},
     "output_type": "execute_result"
    }
   ],
   "source": [
    "num_categorias = df_concatenado['CATEGORIA'].nunique()\n",
    "print(f\"¿Cuántas categorías? {num_categorias}\")\n",
    "\n",
    "df_concatenado['CATEGORIA'].unique()"
   ]
  },
  {
   "cell_type": "code",
   "execution_count": 49,
   "metadata": {},
   "outputs": [
    {
     "name": "stdout",
     "output_type": "stream",
     "text": [
      "¿Cuántas cadenas comerciales están siendo monitoreadas? 213\n"
     ]
    },
    {
     "data": {
      "text/plain": [
       "array(['CENTRAL DE ABASTOS', 'CHEDRAUI', 'ELEKTRA', 'FARMACIA', 'OXXO',\n",
       "       'TORTILLERIAS TRADICIONALES', 'COPPEL', 'BENAVIDES',\n",
       "       'MERCADO PUBLICO', 'PESCADERIAS', 'HIPERMERCADO SORIANA',\n",
       "       'LIVERPOOL', 'WAL-MART', 'BODEGA AURRERA', 'FARMACIA GUADALAJARA',\n",
       "       'FARMACIAS DEL AHORRO', 'FARMACIAS DE SIMILARES', 'MEGA SORIANA',\n",
       "       'MERCADO J. JESUS TERAN', 'SEARS ROEBUCK DE MEXICO',\n",
       "       'PESCADERIAS TRADICIONALES', 'FARMACIA PEY PHARMA',\n",
       "       'SORIANA SUPER', 'CALIMAX', 'FARMACIA EL SOL', 'FARMACIA YZA',\n",
       "       'SALINAS Y ROCHA', 'MERCADO MIGUEL HIDALGO', 'SUPERMERCADOS LEY',\n",
       "       'SANBORN S HNOS.', 'CASA LEY', 'FARMACIAS ESPECIALIZADAS',\n",
       "       'FARMACIA EMERGENCIAS', 'SORIANA EXPRESS', 'ULTRA HOGAR',\n",
       "       'COLCHONES Y MUEBLES DE CAMPECHE', 'MINISUPER', 'ALSUPER STORE',\n",
       "       'S MART', 'MERCADO SORIANA', 'MUEBLERIAS', 'MUEBLERIAS PORTILLO',\n",
       "       'SUPERMERCADO GONZALEZ', 'LA COMER', 'PANADERIAS TRADICIONALES',\n",
       "       'SUMESA', 'WAL-MART EXPRESS', 'BODEGA AURRERA EXPRESS', 'SORIANA',\n",
       "       'CHEDRAUI SELECTO', 'FARMACIA SAN ISIDRO', 'U.N.A.M.',\n",
       "       'MEGA ELEKTRA', '7 ELEVEN', 'PALACIO DE HIERRO',\n",
       "       'NETO (SUPER PRECIO)', 'FARMACIA SAN PABLO', 'FARMATODO', 'CIMACO',\n",
       "       'ALSUPER', 'FARMACIAS SIMILARES', 'H.E.B.',\n",
       "       'FARMACIA LA MINIATURA', 'SUPER CHEDRAUI', 'CITY MARKET',\n",
       "       'FRESKO LA COMER', 'SUPER KOMPRAS', 'TIENDAS GARIS',\n",
       "       'FARMACIA Y DROGUERIA TOLUCA', 'RYSE', 'FARMACIA DEL HOSPITAL',\n",
       "       'FARMACIA ISSEG', 'FARMACIA POPULAR ROMAN', 'MARISCOS PAPILLON',\n",
       "       'PESCADERIA BAHIA DE KINO', 'LEY (AUTOSERVICIO)',\n",
       "       'PESCADERIA CEPESMAR', 'PESCADERIA SEVILLA CARRO VERDE',\n",
       "       'MERCADO DEL MAR FELIPE ANGELES HIGUERIL', 'PESCADERIA EL MANGLE',\n",
       "       'PESCADERIA LINDO SINALOA', 'MUEBLERIA EL GRAN SALTO',\n",
       "       'MERCADO DEL MAR ZAPOPAN', 'PESCADERIA GUASAVEÑA', 'MERKABASTOS',\n",
       "       'EKAR DE GAS', 'FARMACIA ESPECIALIZADA', 'PESCADERIA LAS TRUCHAS',\n",
       "       'FARMACIA TORRE MEDICA', 'PESCADERIA MARI-MICH',\n",
       "       'MERCADO ADOLFO LOPEZ MATEOS', 'FARMACIA ABC',\n",
       "       'MI TIENDA DEL AHORRO', 'MERCADO EL MESON ESTRELLA',\n",
       "       'OPERADORA MERCO', 'MUEBLERIA ELIZONDO',\n",
       "       'FARMACIA HOSPITAL REFORMA', 'FARMACIAS GUELAGUETZA', 'EL PITICO',\n",
       "       'PESCADERIA LIZ DEL MAR', 'PESCADERIA PUERTO AVENTURA',\n",
       "       'FARMACIA UNIVERSITARIA ALEXANDER FLEMIN',\n",
       "       'DISTRIBUIDORA QUERETANA DE MEDICAMENTOS',\n",
       "       'PESCADERIA EL TEJANO DE QUERETARO', 'PESCADERIA YURIDIA',\n",
       "       'FARMACIA DEL AHORRO', 'ABARROTERA GUADALUPANA (FRUTAS)',\n",
       "       'MERCADO LA CRUZ', 'PESCADERIA EL FORO',\n",
       "       'PESCADOS Y MARSCOS ESTRELLA', 'PESCADERIA LA MARINERA DEL 23',\n",
       "       'TELEBODEGA', 'SUPER AKI', 'FARMACIA PARIS', 'FARMACIA LA UNION',\n",
       "       'OPTIVOSA', 'OFFICE DEPOT', 'OFFICE MAX',\n",
       "       'SURTIDORA DEPARTAMENTAL', 'PESCADOS Y MARISCOS MIGUEL HIDAGO',\n",
       "       'LEY EXPRESS', 'SANTOVALLE', 'PESCADERIA BOCA DEL RIO',\n",
       "       'DEPARTAMENTAL DEL SOL', 'ABARROTERA SANCHEZ',\n",
       "       'ABARROTERA MONTERREY', 'FARMACIA CABALLERO',\n",
       "       'TIENDAS DE DESCUENTO ARTELI', 'ABARROTES SUPER CABRERA CLASS',\n",
       "       'GRAN BODEGA', 'MERCADO EMILIO SANCHEZ PIEDRAS',\n",
       "       'MUEBLERIA FOTO CONTINO', 'MERCADO MALIBRAN',\n",
       "       'MUEBLERIA EL IMPORTADOR', 'FARMACIA SAN JUAN', 'SUPER AKI XTRA',\n",
       "       'FARMACIA BAZAR', 'ELECTRODOMESTICOS CHAPUR', 'DUNOSUSA',\n",
       "       'FARMACIA CANTO', 'FARMACIA COMERCIO', 'PESCADERIA GAMBERO',\n",
       "       'ALSUPER FRESH MARKET', 'ELECTROMUEBLES', 'I.S.S.S.T.E.',\n",
       "       'FARMACIA LA LUZ', 'FARMACIA SAN JOSE', 'FARMACIA SAN MIGUEL',\n",
       "       'FARMACIA SANTA CECILIA', 'ISSSTEZAC', 'PAPELERIA CASA MARCHARD',\n",
       "       'PAPELERIA DELTA', 'PAPELERIA TRADICIONAL', 'PAPELERIA TONY',\n",
       "       'PAPELERIA DABO', 'ABASTECEDORA LUMEN', 'GRAND MARCHAND',\n",
       "       'JUGUETERIA Y PAPELERIA TONY', 'PESCADERIA DELFIN',\n",
       "       'PAPELERIA LA MARIPOSA', 'MERCADO CENTRAL DE ACAPULCO',\n",
       "       'FARMACIA CRUZ BLANCA', 'PESCADERIA ALDAMARI',\n",
       "       'PAPELERIA SAN FELIPE', 'MERCADO DEL MAR SAN FELIPE',\n",
       "       'LIBRERIAS GONVILL', 'PAPELERIA VAZQUEZ HERMANOS Y COMPAÑIA',\n",
       "       'PESCADERIA HERMANOS LUNA', 'LA COSTA MARISQUERA', 'HIPER LUMEN',\n",
       "       'FARMACIA CUERNAVACA', 'HEMSA', 'PAPELERIA SALDAÑA',\n",
       "       'PESCADERIA JUAREZ', 'PESCADOS Y MARISCOS MIRAMAR', 'DEL SOL',\n",
       "       'PAPELERIA EL LAPIZ', 'PAPELERIA ESCOLAR',\n",
       "       'DISTRIBUIDORA ESCOLAR Y DE OFICINA J.P.', 'PAPELERIA EL TINTERO',\n",
       "       'PAPELERIAS SUPER PRECIOS', 'PAPELERIA OFIX', 'PAPELERIA COLIBRI',\n",
       "       'PAPELERIA DEL AHORRO', 'PAPELERIA CASA SAKURA', 'PESCADERIA ALEX',\n",
       "       'PAPELERIA DANY', 'PESCADERIA HERMANOS VILLEGAS',\n",
       "       'PAPELERIA EL ESCRITORIO', 'COMPUCOPIAS', 'MUNDO DE LOS MARISCOS',\n",
       "       'PESCADERIA LA JAIBA', 'PAPELERIA SNOOPY',\n",
       "       'PAPELERIA DEL ESTUDIANTE', 'PAPELERIA MASAN', 'PAPELERIA PAQUIN',\n",
       "       'FARMACIA CRUZ ROSA', 'FARMAPRONTO', 'PAPELERIA FARAH',\n",
       "       'GAME PLANET', 'JUGUETRON', 'JUGUETERÍAS', 'WOOLWORTH', 'GAMERS',\n",
       "       'JULIO CEPEDA JUGUETERIAS',\n",
       "       'CENTRO NACIONAL DE DISTRIBUCION JUTEGA', 'LA COLONIAL',\n",
       "       'CRISTALERIA LA VIOLETA', 'OPERADORA PRISSA', 'VINATERIAS',\n",
       "       'APRECIO', 'MERCADO PUBLICO 5 DE  MAYO', 'PAPELERIA TLAXACALA'],\n",
       "      dtype=object)"
      ]
     },
     "execution_count": 49,
     "metadata": {},
     "output_type": "execute_result"
    }
   ],
   "source": [
    "num_cad_comerciales = df_concatenado['CADENACOMERCIAL'].nunique()\n",
    "print(f\"¿Cuántas cadenas comerciales están siendo monitoreadas? {num_cad_comerciales}\")\n",
    "\n",
    "df_concatenado['CADENACOMERCIAL'].unique()"
   ]
  },
  {
   "cell_type": "code",
   "execution_count": 50,
   "metadata": {},
   "outputs": [
    {
     "name": "stdout",
     "output_type": "stream",
     "text": [
      "¿Cuáles son los productos más monitoreados en cada estado de la república?\n",
      "                  ESTADO         PRODUCTO  nRows\n",
      "0         AGUASCALIENTES         REFRESCO   2262\n",
      "1        BAJA CALIFORNIA         REFRESCO   2745\n",
      "2    BAJA CALIFORNIA SUR         REFRESCO   3299\n",
      "3               CAMPECHE         REFRESCO   2350\n",
      "4                CHIAPAS            JAMON   1464\n",
      "5              CHIHUAHUA         REFRESCO   4784\n",
      "6       CIUDAD DE MÉXICO         REFRESCO  39163\n",
      "7   COAHUILA DE ZARAGOZA         REFRESCO   2197\n",
      "8                DURANGO         REFRESCO   2148\n",
      "9       ESTADO DE MÉXICO         REFRESCO  24765\n",
      "10            GUANAJUATO         REFRESCO   7143\n",
      "11              GUERRERO         REFRESCO   2039\n",
      "12               HIDALGO         REFRESCO    773\n",
      "13               JALISCO         REFRESCO   6107\n",
      "14   MICHOACÁN DE OCAMPO         REFRESCO   2954\n",
      "15               MORELOS         REFRESCO   3150\n",
      "16            NUEVO LEÓN         REFRESCO   4951\n",
      "17                OAXACA         REFRESCO   2350\n",
      "18                PUEBLA         REFRESCO   3776\n",
      "19             QUERÉTARO         REFRESCO   3849\n",
      "20          QUINTANA ROO            JAMON   3768\n",
      "21       SAN LUIS POTOSÍ         REFRESCO   2275\n",
      "22               SINALOA  TOALLA FEMENINA   1467\n",
      "23                SONORA         REFRESCO   2991\n",
      "24               TABASCO         REFRESCO   5359\n",
      "25            TAMAULIPAS         REFRESCO   2098\n",
      "26              TLAXCALA         REFRESCO   3287\n",
      "27              VERACRUZ         REFRESCO   2805\n",
      "28               YUCATÁN         REFRESCO   3049\n",
      "29             ZACATECAS         REFRESCO   3765\n"
     ]
    }
   ],
   "source": [
    "print (\"¿Cuáles son los productos más monitoreados en cada estado de la república?\")\n",
    "\n",
    "grouped = df_concatenado.groupby(['ESTADO', 'PRODUCTO']).size().reset_index(name='nRows')\n",
    "\n",
    "grouped_sorted = grouped.sort_values(['ESTADO', 'nRows'], ascending=[True, False])\n",
    "\n",
    "#Producto mas monitoreado por estado\n",
    "top_products_by_state = grouped_sorted.groupby('ESTADO').first().reset_index()\n",
    "\n",
    "print(top_products_by_state)"
   ]
  },
  {
   "cell_type": "code",
   "execution_count": 51,
   "metadata": {},
   "outputs": [
    {
     "name": "stdout",
     "output_type": "stream",
     "text": [
      "¿Cuál es la cadena comercial con mayor variedad de productos monitoreados? HIPERMERCADO SORIANA\n"
     ]
    },
    {
     "data": {
      "text/html": [
       "<div>\n",
       "<style scoped>\n",
       "    .dataframe tbody tr th:only-of-type {\n",
       "        vertical-align: middle;\n",
       "    }\n",
       "\n",
       "    .dataframe tbody tr th {\n",
       "        vertical-align: top;\n",
       "    }\n",
       "\n",
       "    .dataframe thead th {\n",
       "        text-align: right;\n",
       "    }\n",
       "</style>\n",
       "<table border=\"1\" class=\"dataframe\">\n",
       "  <thead>\n",
       "    <tr style=\"text-align: right;\">\n",
       "      <th></th>\n",
       "      <th>CADENACOMERCIAL</th>\n",
       "      <th>unique_products_count</th>\n",
       "    </tr>\n",
       "  </thead>\n",
       "  <tbody>\n",
       "    <tr>\n",
       "      <th>83</th>\n",
       "      <td>HIPERMERCADO SORIANA</td>\n",
       "      <td>758</td>\n",
       "    </tr>\n",
       "    <tr>\n",
       "      <th>99</th>\n",
       "      <td>MEGA SORIANA</td>\n",
       "      <td>753</td>\n",
       "    </tr>\n",
       "    <tr>\n",
       "      <th>17</th>\n",
       "      <td>CHEDRAUI</td>\n",
       "      <td>746</td>\n",
       "    </tr>\n",
       "    <tr>\n",
       "      <th>192</th>\n",
       "      <td>SORIANA</td>\n",
       "      <td>741</td>\n",
       "    </tr>\n",
       "    <tr>\n",
       "      <th>91</th>\n",
       "      <td>LA COMER</td>\n",
       "      <td>741</td>\n",
       "    </tr>\n",
       "    <tr>\n",
       "      <th>...</th>\n",
       "      <td>...</td>\n",
       "      <td>...</td>\n",
       "    </tr>\n",
       "    <tr>\n",
       "      <th>128</th>\n",
       "      <td>OPERADORA PRISSA</td>\n",
       "      <td>4</td>\n",
       "    </tr>\n",
       "    <tr>\n",
       "      <th>77</th>\n",
       "      <td>GAMERS</td>\n",
       "      <td>2</td>\n",
       "    </tr>\n",
       "    <tr>\n",
       "      <th>209</th>\n",
       "      <td>VINATERIAS</td>\n",
       "      <td>2</td>\n",
       "    </tr>\n",
       "    <tr>\n",
       "      <th>76</th>\n",
       "      <td>GAME PLANET</td>\n",
       "      <td>2</td>\n",
       "    </tr>\n",
       "    <tr>\n",
       "      <th>87</th>\n",
       "      <td>JUGUETERÍAS</td>\n",
       "      <td>1</td>\n",
       "    </tr>\n",
       "  </tbody>\n",
       "</table>\n",
       "<p>213 rows × 2 columns</p>\n",
       "</div>"
      ],
      "text/plain": [
       "          CADENACOMERCIAL  unique_products_count\n",
       "83   HIPERMERCADO SORIANA                    758\n",
       "99           MEGA SORIANA                    753\n",
       "17               CHEDRAUI                    746\n",
       "192               SORIANA                    741\n",
       "91               LA COMER                    741\n",
       "..                    ...                    ...\n",
       "128      OPERADORA PRISSA                      4\n",
       "77                 GAMERS                      2\n",
       "209            VINATERIAS                      2\n",
       "76            GAME PLANET                      2\n",
       "87            JUGUETERÍAS                      1\n",
       "\n",
       "[213 rows x 2 columns]"
      ]
     },
     "execution_count": 51,
     "metadata": {},
     "output_type": "execute_result"
    }
   ],
   "source": [
    "unique_products = df_concatenado.groupby('CADENACOMERCIAL')['PRODUCTO'].nunique().reset_index()\n",
    "unique_products = unique_products.rename(columns={'PRODUCTO': 'unique_products_count'})\n",
    "sorted_unique_products = unique_products.sort_values('unique_products_count', ascending=False)\n",
    "\n",
    "print(f\"¿Cuál es la cadena comercial con mayor variedad de productos monitoreados? {sorted_unique_products.iloc[0]['CADENACOMERCIAL']}\")\n",
    "\n",
    "sorted_unique_products\n"
   ]
  },
  {
   "cell_type": "code",
   "execution_count": 61,
   "metadata": {},
   "outputs": [
    {
     "name": "stdout",
     "output_type": "stream",
     "text": [
      "Encuentra algún dato curioso en los datos y comunícalo en un slide de powerpoint.\n",
      "                             CATEGORIA  price_variation\n",
      "3                  APARATOS ELECTRICOS      6787.048891\n",
      "4                APARATOS ELECTRONICOS      6218.060235\n",
      "6    ARTS. DE ESPARCIMIENTO (JUGUETES)      4293.791704\n",
      "40               UTENSILIOS DOMESTICOS       820.724900\n",
      "32                        MEDICAMENTOS       599.233132\n",
      "8       ARTS. PARA EL CUIDADO PERSONAL       166.413408\n",
      "34                 PESCADOS Y MARISCOS       132.113330\n",
      "36  PRODUCTOS DE TEMPORADA (NAVIDEÑOS)       106.929210\n",
      "7    ARTS. DE PAPEL P/HIGIENE PERSONAL       102.651249\n",
      "41                     VINOS Y LICORES        87.159356\n",
      "14      CARNES FRIAS SECAS Y EMBUTIDOS        84.220294\n",
      "19                  DERIVADOS DE LECHE        76.961985\n",
      "31                    MATERIAL ESCOLAR        74.542456\n",
      "13             CARNE Y VISCERAS DE RES        71.879979\n",
      "29                     LECHE PROCESADA        61.751391\n",
      "35     PESCADOS Y MARISCOS EN CONSERVA        58.221802\n",
      "15                             CERVEZA        55.394950\n",
      "9                               AZUCAR        52.069850\n",
      "18                         CONDIMENTOS        47.092510\n",
      "0                ACCESORIOS DOMESTICOS        44.928919\n",
      "11                        CARNE DE AVE        43.416696\n",
      "30                     LEGUMBRES SECAS        41.529782\n",
      "20   DETERGENTES Y PRODUCTOS SIMILARES        40.419247\n",
      "26                  HORTALIZAS FRESCAS        30.801966\n",
      "10                                CAFE        29.525991\n",
      "12           CARNE Y VISCERAS DE CERDO        28.652271\n",
      "16              CHOCOLATES Y GOLOSINAS        26.591891\n",
      "5          ARROZ Y CEREALES PREPARADOS        24.595017\n",
      "21                      FRUTAS FRESCAS        24.389412\n",
      "1    ACEITES Y GRASAS VEG. COMESTIBLES        23.370011\n",
      "24  GALLETAS PASTAS Y HARINAS DE TRIGO        21.167902\n",
      "33                                 PAN        18.913740\n",
      "22       FRUTAS Y LEGUMBRES PROCESADAS        17.215436\n",
      "27                               HUEVO        15.860535\n",
      "2           ALIMENTOS COCINADOS F/CASA        14.895775\n",
      "25         GRASAS ANIMALES COMESTIBLES        13.061328\n",
      "39      TORTILLAS Y DERIVADOS DEL MAIZ        12.719120\n",
      "37                 REFRESCOS ENVASADOS        12.375790\n",
      "28                        LECHE FRESCA         7.852131\n",
      "23                            GALLETAS         5.083659\n",
      "38                                  TE         2.470125\n",
      "17                         CIGARRILLOS         1.258162\n"
     ]
    }
   ],
   "source": [
    "print(\"Encuentra algún dato curioso en los datos y comunícalo en un slide de powerpoint.\")\n",
    "\n",
    "df_concatenado['FECHAREGISTRO'] = pd.to_datetime(df_concatenado['FECHAREGISTRO'])\n",
    "\n",
    "price_variation = df_concatenado.groupby('CATEGORIA')['PRECIO'].agg(price_variation=pd.Series.std).reset_index()\n",
    "\n",
    "price_variation_sorted = price_variation.sort_values(by='price_variation', ascending=False)\n",
    "\n",
    "\n",
    "print(price_variation_sorted)\n",
    "\n"
   ]
  },
  {
   "cell_type": "code",
   "execution_count": 62,
   "metadata": {},
   "outputs": [
    {
     "data": {
      "image/png": "[encoded data removed]",
      "text/plain": [
       "<Figure size 1000x600 with 1 Axes>"
      ]
     },
     "metadata": {},
     "output_type": "display_data"
    }
   ],
   "source": [
    "import matplotlib.pyplot as plt\n",
    "camaras_digitales_df = df_concatenado[df_concatenado['CATEGORIA'] == 'CERVEZA']\n",
    "\n",
    "# 2. Agrupar por FECHAREGISTRO y calcular el promedio del precio para cada fecha\n",
    "camaras_digitales_promedio_precio = camaras_digitales_df.groupby('FECHAREGISTRO')['PRECIO'].mean()\n",
    "\n",
    "# 3. Crear un gráfico de línea para visualizar la variación del promedio del precio a lo largo del tiempo\n",
    "plt.figure(figsize=(10, 6))\n",
    "camaras_digitales_promedio_precio.plot(kind='line', color='blue')\n",
    "plt.title('Variación del promedio del precio de CERVEZA')\n",
    "plt.xlabel('Fecha de Registro')\n",
    "plt.ylabel('Precio Promedio')\n",
    "plt.grid(True)\n",
    "plt.show()"
   ]
  },
  {
   "cell_type": "code",
   "execution_count": 63,
   "metadata": {},
   "outputs": [
    {
     "name": "stdout",
     "output_type": "stream",
     "text": [
      "Fecha, cadena y estado con el precio promedio más bajo:\n",
      "Fecha: 2024-03-25 00:00:00\n",
      "Cadena Comercial: OXXO\n",
      "Estado: TAMAULIPAS\n",
      "Precio Promedio: 40.5\n",
      "\n",
      "Fecha, cadena y estado con el precio promedio más alto:\n",
      "Fecha: 2024-01-23 00:00:00\n",
      "Cadena Comercial: OXXO\n",
      "Estado: QUINTANA ROO\n",
      "Precio Promedio: 256.1666666666667\n"
     ]
    }
   ],
   "source": [
    "# 1. Filtrar el DataFrame para obtener solo las filas donde PRODUCTO sea igual a 'CAMARAS DIGITALES'\n",
    "camaras_digitales_df = df_concatenado[df_concatenado['CATEGORIA'] == 'CERVEZA']\n",
    "\n",
    "\n",
    "# 2. Agrupar por FECHAREGISTRO, CADENACOMERCIAL y ESTADO, y calcular el precio promedio para cada grupo\n",
    "precio_promedio_por_fecha_cadena_estado = camaras_digitales_df.groupby(['FECHAREGISTRO', 'CADENACOMERCIAL', 'ESTADO'])['PRECIO'].mean().reset_index()\n",
    "\n",
    "# 3. Encontrar la fila con el precio promedio más bajo y más alto\n",
    "precio_minimo = precio_promedio_por_fecha_cadena_estado.loc[precio_promedio_por_fecha_cadena_estado['PRECIO'].idxmin()]\n",
    "precio_maximo = precio_promedio_por_fecha_cadena_estado.loc[precio_promedio_por_fecha_cadena_estado['PRECIO'].idxmax()]\n",
    "\n",
    "# 4. Extraer la fecha, cadena y estado de esas filas\n",
    "fecha_mas_bajo = precio_minimo['FECHAREGISTRO']\n",
    "cadena_mas_bajo = precio_minimo['CADENACOMERCIAL']\n",
    "estado_mas_bajo = precio_minimo['ESTADO']\n",
    "precio_mas_bajo = precio_minimo['PRECIO']\n",
    "\n",
    "fecha_mas_alto = precio_maximo['FECHAREGISTRO']\n",
    "cadena_mas_alto = precio_maximo['CADENACOMERCIAL']\n",
    "estado_mas_alto = precio_maximo['ESTADO']\n",
    "precio_mas_alto = precio_maximo['PRECIO']\n",
    "\n",
    "print(\"Fecha, cadena y estado con el precio promedio más bajo:\")\n",
    "print(\"Fecha:\", fecha_mas_bajo)\n",
    "print(\"Cadena Comercial:\", cadena_mas_bajo)\n",
    "print(\"Estado:\", estado_mas_bajo)\n",
    "print(\"Precio Promedio:\", precio_mas_bajo)\n",
    "\n",
    "print(\"\\nFecha, cadena y estado con el precio promedio más alto:\")\n",
    "print(\"Fecha:\", fecha_mas_alto)\n",
    "print(\"Cadena Comercial:\", cadena_mas_alto)\n",
    "print(\"Estado:\", estado_mas_alto)\n",
    "print(\"Precio Promedio:\", precio_mas_alto)\n"
   ]
  }
 ],
 "metadata": {
  "kernelspec": {
   "display_name": "gepp_pandas",
   "language": "python",
   "name": "python3"
  },
  "language_info": {
   "codemirror_mode": {
    "name": "ipython",
    "version": 3
   },
   "file_extension": ".py",
   "mimetype": "text/x-python",
   "name": "python",
   "nbconvert_exporter": "python",
   "pygments_lexer": "ipython3",
   "version": "3.12.1"
  }
 },
 "nbformat": 4,
 "nbformat_minor": 2
}
